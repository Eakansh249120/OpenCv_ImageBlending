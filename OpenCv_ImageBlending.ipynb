{
  "nbformat": 4,
  "nbformat_minor": 0,
  "metadata": {
    "colab": {
      "provenance": [],
      "authorship_tag": "ABX9TyOJp+/iI8tCAeJaQdSHy1VC",
      "include_colab_link": true
    },
    "kernelspec": {
      "name": "python3",
      "display_name": "Python 3"
    },
    "language_info": {
      "name": "python"
    }
  },
  "cells": [
    {
      "cell_type": "markdown",
      "metadata": {
        "id": "view-in-github",
        "colab_type": "text"
      },
      "source": [
        "<a href=\"https://colab.research.google.com/github/Eakansh249120/OpenCv_ImageBlending/blob/main/OpenCv_ImageBlending.ipynb\" target=\"_parent\"><img src=\"https://colab.research.google.com/assets/colab-badge.svg\" alt=\"Open In Colab\"/></a>"
      ]
    },
    {
      "cell_type": "code",
      "execution_count": null,
      "metadata": {
        "id": "DfNBhcflHAD4"
      },
      "outputs": [],
      "source": [
        "import cv2 as cv\n",
        "import numpy as np\n",
        "\n",
        "img1=cv.imread('images/elephant.jpeg')\n",
        "img1=cv.resize(img1,(500,500))\n",
        "img2=cv.imread('images/cap.jpg')\n",
        "img2=cv.resize(img2,(500,500))\n",
        "\n",
        "#cv.imshow('elephant',img1)\n",
        "#cv.imshow('thakral',img2)\n",
        "\n",
        "\n",
        "def blend(x):\n",
        "    pass\n",
        "\n",
        "img=np.zeros((400,400,3),np.uint8 )\n",
        "cv.namedWindow('final')#gives name of the image window formed above\n",
        "cv.createTrackbar('alpha','final',1,100,blend)\n",
        "switch='0:off \\n 1:on'\n",
        "cv.createTrackbar(switch,'final',0,1,blend)\n",
        "\n",
        "while True:\n",
        "    s=cv.getTrackbarPos(switch,'final')\n",
        "    a=cv.getTrackbarPos('alpha','final')\n",
        "    n=float(a/100)\n",
        "    print(n)\n",
        "\n",
        "    if s==0:\n",
        "        dst=img[:]\n",
        "    else:\n",
        "        dst=cv.addWeighted(img1,1-n,img2,n,0)\n",
        "    cv.imshow('dst',dst)\n",
        "    k=cv.waitKey(25)\n",
        "    if k==ord('s'):\n",
        "        break\n",
        "\n",
        "cv.waitKey(0)\n",
        "cv.destroyAllWindows()"
      ]
    }
  ]
}